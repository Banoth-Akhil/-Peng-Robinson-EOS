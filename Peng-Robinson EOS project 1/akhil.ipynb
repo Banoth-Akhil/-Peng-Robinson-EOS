{
 "cells": [
  {
   "cell_type": "code",
   "execution_count": 2,
   "id": "417eca00",
   "metadata": {},
   "outputs": [
    {
     "name": "stdout",
     "output_type": "stream",
     "text": [
      "2138433.3665739857\n"
     ]
    }
   ],
   "source": [
    "import numpy as np\n",
    "import csv\n",
    "T = 373 # Kelvin\n",
    "v = 0.0005 # m3\n",
    "mole = 0.5 \n",
    "R = 8.314 # J/mol.k\n",
    "Vm = v/mole\n",
    "yi = np.array([0.05, 0.1, 0.05,0.05, 0.1, 0.1, 0.1, 0.05, 0.15, 0.1, 0.1, 0.05])\n",
    "Tci = np.array([190.6,305.4,370,408.1,425.1,460.8,469.6,507.4,540.6,568.8,595,645.5])\n",
    "Pci = np.array([4.6,4.88,4.3,3.65,3.8,3.29,3.37,3.3,2.74,2.49,2.3,2.39])\n",
    "w = np.array([0.0115,0.099,0.153,0.183,0.199,0.227,0.251,0.299,0.349,0.398,0.443,0.484])\n",
    "bi = (0.07796*R/np.power(10,6))*(Tci/Pci)\n",
    "# print(bi)\n",
    "aci = 0.457235*(R**2)*np.power(Tci,2)/(Pci*np.power(10,6))\n",
    "# print(aci)\n",
    "alpha = (1 + (0.3637 + 1.54226*w - 0.26992*(w**2))*(1 - np.power(T/Tci,0.5)))**2\n",
    "# print(alpha)\n",
    "ai = np.multiply(aci,alpha)\n",
    "# print(ai)\n",
    "b = sum(yi*bi)\n",
    "# print(b)\n",
    "k_data_file = open(\"k_data.csv\")\n",
    "csv_reader = csv.reader(k_data_file)\n",
    "k_data =[]\n",
    "for i in csv_reader:\n",
    "    k_data.append(i[1:])\n",
    "k_data = k_data[1:]\n",
    "a = 0\n",
    "for i in range(1,12):\n",
    "    for j in range(i,12):\n",
    "        tmp = yi[i] * yi[j] * (( ai[i] * ai[j] )**0.5) * (1 - float(k_data[i][j]))\n",
    "        a += tmp\n",
    "p = (R*T)/(Vm - b) - a/(Vm*(Vm + b) + b*(Vm - b))\n",
    "print(p) \n",
    "# P = 2138433.3665739857 P"
   ]
  },
  {
   "cell_type": "code",
   "execution_count": 3,
   "id": "f9133922",
   "metadata": {},
   "outputs": [
    {
     "name": "stdout",
     "output_type": "stream",
     "text": [
      "2246300.6956682676\n"
     ]
    }
   ],
   "source": [
    "import numpy as np\n",
    "import csv\n",
    "T = 373 # Kelvin\n",
    "v = 0.0005 # m3\n",
    "mole = 0.5 \n",
    "R = 8.314 # J/mol.k\n",
    "Vm = v/mole\n",
    "yi = np.array([0.05, 0.1, 0.05,0.05, 0.1, 0.1, 0.1, 0.05, 0.15, 0.1, 0.1, 0.05])\n",
    "Tci = np.array([190.6,305.4,370,408.1,425.1,460.8,469.6,507.4,540.6,568.8,595,645.5])\n",
    "Pci = np.array([4.6,4.88,4.3,3.65,3.8,3.29,3.37,3.3,2.74,2.49,2.3,2.39])\n",
    "w = np.array([0.0115,0.099,0.153,0.183,0.199,0.227,0.251,0.299,0.349,0.398,0.443,0.484])\n",
    "bi = 0.08664*R*Tci/(Pci*pow(10,6))\n",
    "Tr = 373/Tci\n",
    "alpha = pow(1+(0.48+1.574*w - 0.176*w*w)*(1 - pow(Tr,0.5)),2)\n",
    "ac = 0.42728*pow(R*Tci, 2)/(Pci*pow(10,6))\n",
    "ai = ac*alpha\n",
    "k_data_file = open(\"k_data.csv\")\n",
    "csv_reader = csv.reader(k_data_file)\n",
    "k_data =[]\n",
    "for i in csv_reader:\n",
    "    k_data.append(i[1:])\n",
    "k_data = k_data[1:]\n",
    "a = 0\n",
    "for i in range(1,12):\n",
    "    for j in range(i,12):\n",
    "        tmp = yi[i] * yi[j] * (( ai[i] * ai[j] )**0.5) * (1 - float(k_data[i][j]))\n",
    "        a += tmp\n",
    "b = sum(yi*bi)\n",
    "P = R*T/(Vm - b) - a/(Vm*(Vm+b) + b*(Vm - b))\n",
    "print(P)\n",
    "# P = 2246300.6956682676 P"
   ]
  },
  {
   "cell_type": "code",
   "execution_count": 4,
   "id": "7063acec",
   "metadata": {},
   "outputs": [
    {
     "name": "stdout",
     "output_type": "stream",
     "text": [
      "1263289.3473641495\n"
     ]
    }
   ],
   "source": [
    "import numpy as np\n",
    "import csv\n",
    "T = 373 # Kelvin\n",
    "v = 0.0005 # m3\n",
    "mole = 0.5 \n",
    "R = 8.314 # J/mol.k\n",
    "Vm = v/mole\n",
    "yi = np.array([0.05, 0.1, 0.05,0.05, 0.1, 0.1, 0.1, 0.05, 0.15, 0.1, 0.1, 0.05])\n",
    "Tci = np.array([190.6,305.4,370,408.1,425.1,460.8,469.6,507.4,540.6,568.8,595,645.5])\n",
    "Pci = np.array([4.6,4.88,4.3,3.65,3.8,3.29,3.37,3.3,2.74,2.49,2.3,2.39])\n",
    "w = np.array([0.0115,0.099,0.153,0.183,0.199,0.227,0.251,0.299,0.349,0.398,0.443,0.484])\n",
    "bi = 0.08664*R*Tci/(Pci*pow(10,6))\n",
    "Tr = 373/Tci\n",
    "alpha = pow(Tr,-0.5)\n",
    "ac = 0.42728*pow(R*Tci, 2)/(Pci*pow(10,6))\n",
    "ai = ac*alpha\n",
    "b = sum(yi*bi)\n",
    "a = pow(sum(yi*pow(ai,0.5)),2)\n",
    "P = (R*T/(Vm - b)) - (a/(Vm*(Vm+b)))\n",
    "print(P)\n",
    "# P = 1263289.3473641495 Pa"
   ]
  },
  {
   "cell_type": "code",
   "execution_count": null,
   "id": "5bd3139f",
   "metadata": {},
   "outputs": [],
   "source": []
  }
 ],
 "metadata": {
  "kernelspec": {
   "display_name": "Python 3 (ipykernel)",
   "language": "python",
   "name": "python3"
  },
  "language_info": {
   "codemirror_mode": {
    "name": "ipython",
    "version": 3
   },
   "file_extension": ".py",
   "mimetype": "text/x-python",
   "name": "python",
   "nbconvert_exporter": "python",
   "pygments_lexer": "ipython3",
   "version": "3.9.13"
  }
 },
 "nbformat": 4,
 "nbformat_minor": 5
}
